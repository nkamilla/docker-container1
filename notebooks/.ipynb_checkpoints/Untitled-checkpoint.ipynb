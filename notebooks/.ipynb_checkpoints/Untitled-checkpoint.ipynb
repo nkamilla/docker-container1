{
 "cells": [
  {
   "cell_type": "code",
   "execution_count": 10,
   "id": "22dac9a0-8eb1-476a-980a-6bc1d5820e46",
   "metadata": {},
   "outputs": [
    {
     "name": "stdout",
     "output_type": "stream",
     "text": [
      "   count\n",
      "0   9742\n"
     ]
    }
   ],
   "source": [
    "query = \"SELECT COUNT(*) FROM movies\"\n",
    "df = pd.read_sql(query, engine)\n",
    "print(df)\n"
   ]
  },
  {
   "cell_type": "code",
   "execution_count": 11,
   "id": "594e6e41-9445-4be0-8ac6-f1f684ae66f4",
   "metadata": {},
   "outputs": [
    {
     "name": "stdout",
     "output_type": "stream",
     "text": [
      "   genre  count\n",
      "0  Drama   4361\n"
     ]
    }
   ],
   "source": [
    "query = \"\"\"\n",
    "SELECT genre, COUNT(*) as count\n",
    "FROM (\n",
    "    SELECT unnest(string_to_array(movies.genres, '|')) as genre\n",
    "    FROM movies\n",
    ") AS genres\n",
    "GROUP BY genre\n",
    "ORDER BY count DESC\n",
    "LIMIT 1\n",
    "\"\"\"\n",
    "df = pd.read_sql(query, engine)\n",
    "print(df)\n"
   ]
  },
  {
   "cell_type": "code",
   "execution_count": 12,
   "id": "6c91e2f5-79ab-4764-9c27-392de8623b3f",
   "metadata": {},
   "outputs": [
    {
     "name": "stdout",
     "output_type": "stream",
     "text": [
      "                                            title  avg_rating\n",
      "0                           Brother (Brat) (1997)         5.0\n",
      "1                                      Eva (2011)         5.0\n",
      "2       Go for Zucker! (Alles auf Zucker!) (2004)         5.0\n",
      "3                              Holy Motors (2012)         5.0\n",
      "4                              Connections (1978)         5.0\n",
      "5                  Watching the Detectives (2007)         5.0\n",
      "6                         Girls About Town (1931)         5.0\n",
      "7  Story of Women (Affaire de femmes, Une) (1988)         5.0\n",
      "8                Nasu: Summer in Andalusia (2003)         5.0\n",
      "9                           Into the Woods (1991)         5.0\n"
     ]
    }
   ],
   "source": [
    "query = \"\"\"\n",
    "SELECT movies.title, AVG(ratings.rating) as avg_rating\n",
    "FROM ratings\n",
    "JOIN movies ON ratings.\"movieId\" = movies.\"movieId\"\n",
    "GROUP BY movies.title\n",
    "ORDER BY avg_rating DESC\n",
    "LIMIT 10\n",
    "\"\"\"\n",
    "df = pd.read_sql(query, engine)\n",
    "print(df)\n"
   ]
  },
  {
   "cell_type": "code",
   "execution_count": 13,
   "id": "fe15ae1e-5d35-4ff3-b72e-7d6888a07611",
   "metadata": {},
   "outputs": [
    {
     "name": "stdout",
     "output_type": "stream",
     "text": [
      "   userId  rating_count\n",
      "0     414          2698\n",
      "1     599          2478\n",
      "2     474          2108\n",
      "3     448          1864\n",
      "4     274          1346\n"
     ]
    }
   ],
   "source": [
    "query = \"\"\"\n",
    "SELECT \"userId\", COUNT(*) as rating_count\n",
    "FROM ratings\n",
    "GROUP BY \"userId\"\n",
    "ORDER BY rating_count DESC\n",
    "LIMIT 5\n",
    "\"\"\"\n",
    "df = pd.read_sql(query, engine)\n",
    "print(df)\n"
   ]
  },
  {
   "cell_type": "code",
   "execution_count": 14,
   "id": "48ecf474-0320-4e44-8aff-e11bcfed89f8",
   "metadata": {},
   "outputs": [
    {
     "name": "stdout",
     "output_type": "stream",
     "text": [
      "   first_rating  last_rating     first_movie    last_movie\n",
      "0     828124615   1537799250  Copycat (1995)  Crumb (1994)\n"
     ]
    }
   ],
   "source": [
    "query = \"\"\"\n",
    "SELECT \n",
    "    MIN(ratings.timestamp) as first_rating, \n",
    "    MAX(ratings.timestamp) as last_rating,\n",
    "    (SELECT title FROM movies WHERE \"movieId\" = (SELECT \"movieId\" FROM ratings ORDER BY timestamp ASC LIMIT 1)) as first_movie,\n",
    "    (SELECT title FROM movies WHERE \"movieId\" = (SELECT \"movieId\" FROM ratings ORDER BY timestamp DESC LIMIT 1)) as last_movie\n",
    "FROM ratings\n",
    "\"\"\"\n",
    "df = pd.read_sql(query, engine)\n",
    "print(df)\n"
   ]
  },
  {
   "cell_type": "code",
   "execution_count": 17,
   "id": "1952d897-2dfb-44ee-92c4-39e662aad9e2",
   "metadata": {},
   "outputs": [
    {
     "name": "stdout",
     "output_type": "stream",
     "text": [
      "                                                 title\n",
      "0                                    Home Alone (1990)\n",
      "1                                         Ghost (1990)\n",
      "2                            Dances with Wolves (1990)\n",
      "3                                  Pretty Woman (1990)\n",
      "4                               Days of Thunder (1990)\n",
      "..                                                 ...\n",
      "142  Dragon Ball Z: Bardock - The Father of Goku (D...\n",
      "143               I Bought a Vampire Motorcycle (1990)\n",
      "144                                Maniac Cop 2 (1990)\n",
      "145                          Jetsons: The Movie (1990)\n",
      "146                         The Forbidden Dance (1990)\n",
      "\n",
      "[147 rows x 1 columns]\n"
     ]
    }
   ],
   "source": [
    "query = \"\"\"\n",
    "SELECT title\n",
    "FROM movies\n",
    "WHERE title LIKE '%%(1990)%%'\n",
    "\"\"\"\n",
    "df = pd.read_sql(query, engine)\n",
    "print(df)\n"
   ]
  },
  {
   "cell_type": "code",
   "execution_count": null,
   "id": "4315383e-10c4-4aa2-b9bb-965e37d58cc0",
   "metadata": {},
   "outputs": [],
   "source": []
  }
 ],
 "metadata": {
  "kernelspec": {
   "display_name": "Python 3 (ipykernel)",
   "language": "python",
   "name": "python3"
  },
  "language_info": {
   "codemirror_mode": {
    "name": "ipython",
    "version": 3
   },
   "file_extension": ".py",
   "mimetype": "text/x-python",
   "name": "python",
   "nbconvert_exporter": "python",
   "pygments_lexer": "ipython3",
   "version": "3.11.6"
  }
 },
 "nbformat": 4,
 "nbformat_minor": 5
}
